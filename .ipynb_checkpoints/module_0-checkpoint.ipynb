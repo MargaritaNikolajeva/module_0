{
 "cells": [
  {
   "cell_type": "markdown",
   "id": "8078460b",
   "metadata": {},
   "source": [
    "# Угадай число за меньшее количество попыток!\n"
   ]
  },
  {
   "cell_type": "code",
   "execution_count": 2,
   "id": "ffc3159f",
   "metadata": {},
   "outputs": [
    {
     "name": "stdout",
     "output_type": "stream",
     "text": [
      "Загадано число от 1 до 100\n",
      "Алгоритм угадывает число в среднем за 5 попыток\n"
     ]
    },
    {
     "data": {
      "text/plain": [
       "5"
      ]
     },
     "execution_count": 2,
     "metadata": {},
     "output_type": "execute_result"
    }
   ],
   "source": [
    "import numpy as np\n",
    "\n",
    "number_test = np.random.randint(1, 101)  # загадали число\n",
    "print(\"Загадано число от 1 до 100\")\n",
    "\n",
    "\n",
    "def game_core_best(number):\n",
    "    \"\"\"Функция, которая угадывает загаданное число.\"\"\"\n",
    "    count = 1\n",
    "    a = 1\n",
    "    b = 100\n",
    "\n",
    "    while True:\n",
    "        predict = (a + b) // 2\n",
    "        if number == predict:\n",
    "            #print(f\"Загаданное число {predict} угадали за {count} попыток.\")\n",
    "            return count\n",
    "        elif number < predict:\n",
    "            b = predict - 1\n",
    "            count += 1\n",
    "        else:\n",
    "            a = predict + 1\n",
    "            count += 1\n",
    "\n",
    "\n",
    "game_core_best(number_test)\n",
    "\n",
    "\n",
    "def score_game(game_core):\n",
    "    \"\"\"Запускаем игру 1000 раз, чтобы узнать, как быстро игра угадывает число\"\"\"\n",
    "    count_ls = []\n",
    "    np.random.seed(1)\n",
    "    random_array = np.random.randint(1, 101, size=1000)\n",
    "    for number in random_array:\n",
    "        count_ls.append(game_core(number))\n",
    "    score = int(np.mean(count_ls))\n",
    "    print(f\"Алгоритм угадывает число в среднем за {score} попыток\")\n",
    "    return score\n",
    "\n",
    "\n",
    "score_game(game_core_best)"
   ]
  },
  {
   "cell_type": "code",
   "execution_count": null,
   "id": "a085d42d",
   "metadata": {},
   "outputs": [],
   "source": []
  }
 ],
 "metadata": {
  "kernelspec": {
   "display_name": "Python 3",
   "language": "python",
   "name": "python3"
  },
  "language_info": {
   "codemirror_mode": {
    "name": "ipython",
    "version": 3
   },
   "file_extension": ".py",
   "mimetype": "text/x-python",
   "name": "python",
   "nbconvert_exporter": "python",
   "pygments_lexer": "ipython3",
   "version": "3.8.8"
  }
 },
 "nbformat": 4,
 "nbformat_minor": 5
}
